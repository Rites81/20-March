{
 "cells": [
  {
   "cell_type": "markdown",
   "id": "3c94d17b",
   "metadata": {},
   "source": [
    "## Q1. What is data encoding? How is it useful in data science?"
   ]
  },
  {
   "cell_type": "markdown",
   "id": "124c165f",
   "metadata": {},
   "source": [
    "Data encoding is the process of converting data into a specific format for efficient storage, transmission, and processing. In data science, it is useful for transforming categorical data into numerical values, facilitating the use of machine learning algorithms that require numerical input, and improving the performance of data processing and analysis tasks."
   ]
  },
  {
   "cell_type": "markdown",
   "id": "70761881",
   "metadata": {},
   "source": [
    "## Q2. What is nominal encoding? Provide an example of how you would use it in a real-world scenario."
   ]
  },
  {
   "cell_type": "markdown",
   "id": "15e5d29c",
   "metadata": {},
   "source": [
    "Nominal encoding, also known as one-hot encoding, is a technique used to convert categorical data into a binary matrix representation. Each category is represented by a unique binary vector, where only one element is \"1\" and the rest are \"0\".\n",
    "\n",
    "###### Real-World Application:\n",
    "In a customer survey dataset, you have a \"Preferred Contact Method\" column with categories like \"Email,\" \"Phone,\" and \"SMS.\" To use this data in a machine learning model, you would apply nominal encoding to transform these categories into a binary matrix, allowing the model to process the data effectively"
   ]
  },
  {
   "cell_type": "markdown",
   "id": "8aad28c3",
   "metadata": {},
   "source": [
    "## Q3. In what situations is nominal encoding preferred over one-hot encoding? Provide a practical example."
   ]
  },
  {
   "cell_type": "markdown",
   "id": "6714c328",
   "metadata": {},
   "source": [
    "Nominal encoding is actually another name for one-hot encoding, so they refer to the same technique. However, if you are asking about situations where one-hot encoding (nominal encoding) is preferred over other encoding methods like label encoding, here’s an explanation:\n",
    "\n",
    "##### Situations where One-Hot Encoding is Preferred:\n",
    "Non-ordinal categorical data: When the categorical data does not have a natural order or ranking.\n",
    "Avoiding misleading relationships: Preventing the model from assuming any ordinal relationship between categories.\n",
    "Machine Learning Compatibility: Many machine learning algorithms perform better or require one-hot encoded data for categorical features."
   ]
  },
  {
   "cell_type": "markdown",
   "id": "98f1a009",
   "metadata": {},
   "source": [
    "### Q4. Suppose you have a dataset containing categorical data with 5 unique values. Which encoding technique would you use to transform this data into a format suitable for machine learning algorithms?Explain why you made this choice."
   ]
  },
  {
   "cell_type": "markdown",
   "id": "e39e54ba",
   "metadata": {},
   "source": [
    "For a dataset containing categorical data with 5 unique values, I would use one-hot encoding. Here’s why:\n",
    "\n",
    "Reason for Choosing One-Hot Encoding:\n",
    "\n",
    "Avoids Ordinal Assumptions: One-hot encoding ensures that the machine learning model does not assume any ordinal relationship between the categories, which is crucial if the categories are nominal (without a natural order).\n",
    "\n",
    "Algorithm Compatibility: Many machine learning algorithms, including linear models, neural networks, and tree-based models, perform better with one-hot encoded data since it allows them to treat each category independently.\n",
    "\n",
    "Interpretability: The encoded features are easy to interpret, as each new binary feature represents the presence or absence of a specific category.\n",
    "\n",
    "Example:\n",
    "Assume the dataset has a column \"Fruit Type\" with 5 unique values: \"Apple,\" \"Banana,\" \"Cherry,\" \"Date,\" and \"Elderberry.\"\n",
    "\n",
    "Original Data:\n",
    " Fruit Type\n",
    "\n",
    "Apple\n",
    "\n",
    "Banana\n",
    "\n",
    "Cherry\n",
    "\n",
    "Date\n",
    "\n",
    "Elderberry"
   ]
  },
  {
   "cell_type": "markdown",
   "id": "027b65dd",
   "metadata": {},
   "source": [
    "After One-Hot Encoding:\n",
    "Apple\tBanana\tCherry\tDate\tElderberry\n",
    "1         \t0  \t     0  \t0\t         0\n",
    "0\t        1\t     0\t    0\t         0\n",
    "0\t        0\t     1\t    0\t         0\n",
    "0\t        0\t     0\t    1\t         0\n",
    "0\t        0\t     0\t    0\t         1"
   ]
  },
  {
   "cell_type": "markdown",
   "id": "5141cd67",
   "metadata": {},
   "source": [
    "### Q5. In a machine learning project, you have a dataset with 1000 rows and 5 columns. Two of the columns are categorical, and the remaining three columns are numerical. If you were to use nominal encoding to transform the categorical data, how many new columns would be created? Show your calculations."
   ]
  },
  {
   "cell_type": "markdown",
   "id": "7539334c",
   "metadata": {},
   "source": [
    "To determine the number of new columns created by using nominal (one-hot) encoding for the categorical data in your dataset, follow these steps:\n",
    "\n",
    "1. Identify the number of unique values in each categorical column.\n",
    "2. Apply one-hot encoding to each categorical column.\n",
    "\n",
    "### Example:\n",
    "Let's assume the two categorical columns have the following unique values:\n",
    "- Categorical Column 1: 4 unique values (e.g., A, B, C, D)\n",
    "- Categorical Column 2: 3 unique values (e.g., X, Y, Z)\n",
    "\n",
    "### Calculations:\n",
    "\n",
    "- Categorical Column 1: One-hot encoding will create 4 new columns (one for each unique value).\n",
    "- Categorical Column 2: One-hot encoding will create 3 new columns (one for each unique value).\n",
    "\n",
    "#### Total New Columns:\n",
    " 4 (from Categorical Column 1)} + 3(from Categorical Column 2)} = 7{ new columns} \n",
    "\n",
    "Therefore, after applying nominal (one-hot) encoding to the two categorical columns, the dataset will have:\n",
    "\n",
    "- Original numerical columns: 3\n",
    "- New one-hot encoded columns: 7\n",
    "\n",
    "### Total Columns After Encoding:\n",
    " 3 (numerical columns) + 7 (one-hot encoded columns) = 10 ( columns)\n",
    "\n",
    "In summary, using nominal encoding for the two categorical columns will result in 7 new columns being created."
   ]
  },
  {
   "cell_type": "markdown",
   "id": "ee0d096c",
   "metadata": {},
   "source": [
    "## Q6. You are working with a dataset containing information about different types of animals, including their species, habitat, and diet. Which encoding technique would you use to transform the categorical data into a format suitable for machine learning algorithms? Justify your answer."
   ]
  },
  {
   "cell_type": "markdown",
   "id": "93abf445",
   "metadata": {},
   "source": [
    "For a dataset containing categorical information about different types of animals, including their species, habitat, and diet, I would use one-hot encoding to transform the categorical data into a format suitable for machine learning algorithms. Here's why:\n",
    "\n",
    "Justification:\n",
    "Nominal Nature of Data: The categories (species, habitat, diet) are nominal, meaning they do not have a natural order. One-hot encoding effectively handles such data by creating binary columns for each unique category, ensuring no ordinal assumptions are made by the model.\n",
    "\n",
    "Algorithm Compatibility: One-hot encoding is widely supported and works well with most machine learning algorithms, including linear models, neural networks, and tree-based methods. It allows these algorithms to treat each category independently, which can lead to better performance.\n",
    "\n",
    "Prevents Misleading Relationships: By using one-hot encoding, we avoid introducing misleading relationships between categories. For example, if we used label encoding, the model might incorrectly infer a ranking or distance between categories that do not have any inherent order.\n",
    "\n",
    "Example:\n",
    "Original Data:\n",
    "Species\tHabitat\tDiet\n",
    "Lion\tSavanna\tCarnivore\n",
    "Elephant\tForest\tHerbivore\n",
    "Penguin\tAntarctic\tCarnivore\n",
    "Kangaroo\tDesert\tHerbivore\n",
    "Shark\tOcean\tCarnivore\n",
    "One-Hot Encoded Data:\n",
    "\n",
    "Conclusion:\n",
    "Using one-hot encoding for the species, habitat, and diet columns ensures that the machine learning model can process the data without making any incorrect assumptions about the relationships between categories. This approach leads to a more accurate and reliable model."
   ]
  },
  {
   "cell_type": "code",
   "execution_count": null,
   "id": "4bf595cc",
   "metadata": {},
   "outputs": [],
   "source": [
    "Lion Elephant\tPenguin\tKangaroo\tShark\tSavanna\tForest\tAntarctic\tDesert\tOcean\tCarnivore\tHerbivore\n",
    "1\t      0\t         0\t       0\t    0\t      1\t     0\t        0\t     0\t    0\t        1\t        0\n",
    "0\t      1\t         0\t       0\t    0\t      0\t     1\t        0\t     0\t    0\t        0           1\n",
    "0\t      0        \t1\t       0     \t0       0\t     0\t        1\t     0\t    0\t        1\t        0\n",
    "0\t      0\t        0\t       1\t    0\t      0\t     0       \t0      \t1\t    0\t        0\t        1\n",
    "0\t      0\t        0\t       0\t    1\t      0\t     0\t        0     \t0\t    1\t        1        \t0"
   ]
  },
  {
   "cell_type": "markdown",
   "id": "893ad48c",
   "metadata": {},
   "source": [
    "## Q7.You are working on a project that involves predicting customer churn for a telecommunications company. You have a dataset with 5 features, including the customer's gender, age, contract type, monthly charges, and tenure. Which encoding technique(s) would you use to transform the categorical data into numerical data? Provide a step-by-step explanation of how you would implement the encoding."
   ]
  },
  {
   "cell_type": "markdown",
   "id": "b612a610",
   "metadata": {},
   "source": [
    "For predicting customer churn with a dataset that includes categorical features like gender and contract type, you would need to convert these categorical features into numerical format for use in machine learning algorithms. The appropriate encoding techniques are one-hot encoding and label encoding. Here’s a step-by-step explanation of how you would implement these encodings:\n",
    "\n",
    "Features:\n",
    "Gender (categorical)\n",
    "Age (numerical)\n",
    "Contract Type (categorical)\n",
    "Monthly Charges (numerical)\n",
    "Tenure (numerical)\n",
    "\n",
    "Encoding Techniques:\n",
    "## 1. One-Hot Encoding\n",
    "Use Case: For categorical variables where there is no ordinal relationship, such as gender and contract type.\n",
    "Purpose: To create binary columns for each category, allowing the model to treat each category independently.\n",
    "Step-by-Step Implementation:\n",
    "\n",
    "a. Gender Encoding:\n",
    "\n",
    "Original Data: \"Male\" and \"Female\"\n",
    "One-Hot Encoding Result:\n",
    "Male\tFemale\n",
    "1\t0\n",
    "0\t1\n",
    "1\t0\n",
    "0\t1\n",
    "\n",
    "\n",
    "b. Contract Type Encoding:\n",
    "\n",
    "Original Data: \"Month-to-Month\", \"One Year\", \"Two Year\"\n",
    "One-Hot Encoding Result:\n",
    "Month-to-Month\tOne Year\tTwo Year\n",
    "1\t                 0\t          0\n",
    "0\t                 1\t          0\n",
    "0\t                 0          \t1\n",
    "1\t                 0\t          0\n",
    "\n",
    "\n",
    "## 2. Label Encoding\n",
    "Use Case: Label encoding can be used for ordinal categorical variables, but it is less common for categorical features in churn prediction tasks unless they have a natural order. In this case, label encoding is not used since \"gender\" and \"contract type\" do not have a natural order."
   ]
  },
  {
   "cell_type": "code",
   "execution_count": 3,
   "id": "0ce278e7",
   "metadata": {},
   "outputs": [
    {
     "name": "stdout",
     "output_type": "stream",
     "text": [
      "   Age  Monthly Charges  Tenure  Gender_Male  Contract Type_One Year  \\\n",
      "0   30               70      12          1.0                     0.0   \n",
      "1   25               80      24          0.0                     1.0   \n",
      "2   40               90      18          1.0                     0.0   \n",
      "3   35               85      15          0.0                     0.0   \n",
      "\n",
      "   Contract Type_Two Year  \n",
      "0                     0.0  \n",
      "1                     0.0  \n",
      "2                     1.0  \n",
      "3                     0.0  \n"
     ]
    },
    {
     "name": "stderr",
     "output_type": "stream",
     "text": [
      "C:\\Users\\Rites\\AppData\\Local\\Programs\\Python\\Python310\\lib\\site-packages\\sklearn\\preprocessing\\_encoders.py:972: FutureWarning: `sparse` was renamed to `sparse_output` in version 1.2 and will be removed in 1.4. `sparse_output` is ignored unless you leave `sparse` to its default value.\n",
      "  warnings.warn(\n"
     ]
    }
   ],
   "source": [
    "# Implementing a one hot Encoding\n",
    "import pandas as pd\n",
    "from sklearn.preprocessing import OneHotEncoder\n",
    "\n",
    "# Sample DataFrame\n",
    "data = {\n",
    "    'Gender': ['Male', 'Female', 'Male', 'Female'],\n",
    "    'Contract Type': ['Month-to-Month', 'One Year', 'Two Year', 'Month-to-Month'],\n",
    "    'Age': [30, 25, 40, 35],\n",
    "    'Monthly Charges': [70, 80, 90, 85],\n",
    "    'Tenure': [12, 24, 18, 15]\n",
    "}\n",
    "\n",
    "df = pd.DataFrame(data)\n",
    "\n",
    "# One-Hot Encoding for categorical features\n",
    "encoder = OneHotEncoder(drop='first', sparse=False)\n",
    "encoded_features = encoder.fit_transform(df[['Gender', 'Contract Type']])\n",
    "encoded_df = pd.DataFrame(encoded_features, columns=encoder.get_feature_names_out(['Gender', 'Contract Type']))\n",
    "\n",
    "# Concatenate encoded features with numerical features\n",
    "final_df = pd.concat([df[['Age', 'Monthly Charges', 'Tenure']], encoded_df], axis=1)\n",
    "\n",
    "print(final_df)\n"
   ]
  },
  {
   "cell_type": "markdown",
   "id": "8bd3056a",
   "metadata": {},
   "source": [
    "Final DataFrame:\n",
    "The final DataFrame will have the following columns: Age, Monthly Charges, Tenure, Male, Female, Month-to-Month, One Year, Two Year.\n",
    "\n",
    "Summary:\n",
    "\n",
    "One-Hot Encoding is used for the \"Gender\" and \"Contract Type\" features to convert them into a format suitable for machine learning models.\n",
    "Numerical features (Age, Monthly Charges, Tenure) are used directly without additional encoding"
   ]
  },
  {
   "cell_type": "code",
   "execution_count": null,
   "id": "e69d413c",
   "metadata": {},
   "outputs": [],
   "source": []
  }
 ],
 "metadata": {
  "kernelspec": {
   "display_name": "Python 3 (ipykernel)",
   "language": "python",
   "name": "python3"
  },
  "language_info": {
   "codemirror_mode": {
    "name": "ipython",
    "version": 3
   },
   "file_extension": ".py",
   "mimetype": "text/x-python",
   "name": "python",
   "nbconvert_exporter": "python",
   "pygments_lexer": "ipython3",
   "version": "3.10.10"
  }
 },
 "nbformat": 4,
 "nbformat_minor": 5
}
